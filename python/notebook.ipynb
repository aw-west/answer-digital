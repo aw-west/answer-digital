{
 "cells": [
  {
   "cell_type": "markdown",
   "metadata": {},
   "source": [
    "# Answer Digital - Automation Test - Andrew West"
   ]
  },
  {
   "cell_type": "code",
   "execution_count": 11,
   "metadata": {},
   "outputs": [],
   "source": [
    "from selenium import webdriver\n",
    "from selenium.webdriver.common.by import By\n",
    "from selenium.webdriver.common.keys import Keys\n",
    "import time"
   ]
  },
  {
   "cell_type": "markdown",
   "metadata": {},
   "source": [
    "Initialise the webdriver"
   ]
  },
  {
   "cell_type": "code",
   "execution_count": 12,
   "metadata": {},
   "outputs": [],
   "source": [
    "try:\n",
    "    options = webdriver.firefox.options.Options()\n",
    "    options.add_argument('--headless')\n",
    "    driver = webdriver.Firefox(options=options)\n",
    "except:\n",
    "    options = webdriver.chrome.options.Options()\n",
    "    options.add_argument('--headless')\n",
    "    driver = webdriver.Chrome(options=options)"
   ]
  },
  {
   "cell_type": "markdown",
   "metadata": {},
   "source": [
    "## Test Case 1\n",
    "\"To perform Test case 1, please click on **form authentication on Menu**  \n",
    "Test case 1: Automate Form Authentication\""
   ]
  },
  {
   "cell_type": "code",
   "execution_count": 13,
   "metadata": {},
   "outputs": [],
   "source": [
    "correct_username = 'tomsmith'\n",
    "correct_password = 'SuperSecretPassword!'\n",
    "wrong_username = 'andrewwest'\n",
    "wrong_password = 'password1234'"
   ]
  },
  {
   "cell_type": "code",
   "execution_count": 14,
   "metadata": {},
   "outputs": [],
   "source": [
    "def login(username, password):\n",
    "    driver.get('http://the-internet.herokuapp.com/')\n",
    "    driver.find_element(By.LINK_TEXT, 'Form Authentication').click()\n",
    "    driver.find_element(By.NAME, 'username').send_keys(username)\n",
    "    driver.find_element(By.NAME, 'password').send_keys(password)\n",
    "    driver.find_element(By.TAG_NAME, 'button').click()\n",
    "    return driver.find_element(By.ID, 'flash').text"
   ]
  },
  {
   "cell_type": "markdown",
   "metadata": {},
   "source": [
    "### Scenario 1\n",
    "\"Try to login with correct username and wrong password and assert login validation.\""
   ]
  },
  {
   "cell_type": "code",
   "execution_count": 15,
   "metadata": {},
   "outputs": [
    {
     "name": "stdout",
     "output_type": "stream",
     "text": [
      "Your password is invalid!\n",
      "×\n"
     ]
    }
   ],
   "source": [
    "print( login(correct_username, wrong_password) )"
   ]
  },
  {
   "cell_type": "markdown",
   "metadata": {},
   "source": [
    "### Scenario 2\n",
    "\"Try to login with wrong username and correct password and assert login validation.\""
   ]
  },
  {
   "cell_type": "code",
   "execution_count": 16,
   "metadata": {},
   "outputs": [
    {
     "name": "stdout",
     "output_type": "stream",
     "text": [
      "Your username is invalid!\n",
      "×\n"
     ]
    }
   ],
   "source": [
    "print( login(wrong_username, correct_password) )"
   ]
  },
  {
   "cell_type": "markdown",
   "metadata": {},
   "source": [
    "### Scenario 3\n",
    "\"Try to login with correct username and correct password and then logout.\""
   ]
  },
  {
   "cell_type": "code",
   "execution_count": 17,
   "metadata": {},
   "outputs": [
    {
     "name": "stdout",
     "output_type": "stream",
     "text": [
      "You logged into a secure area!\n",
      "×\n"
     ]
    }
   ],
   "source": [
    "print( login(correct_username, correct_password) )\n",
    "driver.find_element(By.LINK_TEXT, 'Logout').click()"
   ]
  },
  {
   "cell_type": "markdown",
   "metadata": {},
   "source": [
    "## Test Case 2\n",
    "\"To perform Test case 2, please click on **Infinite scroll on Menu**  \n",
    "Test case 2: scroll to the bottom of the page twice and scroll back to the top of the page and assert 'Infinite Scroll' text\""
   ]
  },
  {
   "cell_type": "code",
   "execution_count": 18,
   "metadata": {},
   "outputs": [
    {
     "name": "stdout",
     "output_type": "stream",
     "text": [
      "Provident repellendus distinctio eveniet fuga ipsam dolor dicta aut inventore similique dolore dolorem suscipit sint sit magni qui est itaque voluptatem totam doloremque minima sint esse dolores omnis eos et earum deserunt laudantium id sapiente placeat voluptatibus voluptatibus a ducimus voluptatum nostrum labore aut velit nisi vel quisquam nobis maxime et rem et sed aut totam temporibus et quas consectetur ea quasi ut iure beatae consequatur soluta rerum voluptates laboriosam consequatur sit ut nam ab est repellendus et velit suscipit temporibus hic magnam nulla aliquam nemo iste architecto accusamus sit deserunt animi eos et qui iure alias facilis vero incidunt dolores aperiam vel animi inventore quis optio accusantium et doloribus id cupiditate natus amet voluptas fugiat ut vero molestiae sunt ducimus nihil quae sed aut veniam aliquid corporis consequatur commodi quia rerum et sunt delectus officia voluptate ullam corrupti dolorum occaecati porro voluptatem voluptatem optio ea voluptas explicabo accusantium eaque rerum velit occaecati unde alias impedit aut autem aut et ut recusandae at saepe quaerat id et in consequatur non quisquam eaque necessitatibus omnis ut ullam unde ipsa magnam illo est dolore nemo doloremque reprehenderit ut neque voluptas officia dignissimos id vel facere beatae qui illum sed voluptas blanditiis aut sed dicta aut tenetur quibusdam ratione assumenda harum earum quaerat enim et fuga illum sequi doloribus autem quam voluptas quibusdam cumque corrupti cum harum fugiat qui et tempora aut eius est quia modi qui veniam numquam odio vel sint commodi maiores itaque sit ipsum non omnis corporis quae minima nihil enim molestiae praesentium asperiores tempore nisi ut nostrum sit accusamus voluptatem laboriosam quam non quo error minus nesciunt iste sint ut minus autem molestias sit amet cupiditate neque ipsa quia incidunt ea sed qui iusto eius aliquam ipsum quod porro qui quia voluptatem reiciendis voluptatem numquam quos quia libero et.\n",
      "\n",
      "Nam veniam qui velit nostrum autem voluptas voluptatem sed laboriosam minima molestiae nisi aut corporis quia in ad assumenda inventore qui aspernatur mollitia error aut asperiores quas deserunt excepturi ab saepe possimus quos voluptas est fuga sed sed neque eveniet perferendis voluptatem eum quo unde et rerum aut quisquam aut et cum asperiores ut explicabo sunt ipsum delectus assumenda dignissimos possimus et amet nemo itaque dolorem exercitationem optio distinctio earum quia occaecati quaerat pariatur numquam earum sed repellendus eaque magni qui iste et maxime sapiente quaerat dolorem non consequatur ipsa dolor et consequatur sunt et ut saepe et recusandae non voluptas ut dolores doloremque sit quis voluptatem libero quasi quia in eos molestiae aperiam quibusdam enim ut in ullam est consectetur eos soluta officiis rerum quia a modi odio nihil aperiam voluptas sit qui alias quia nesciunt qui id esse repellat eum nemo iusto praesentium eum qui exercitationem incidunt rem quas iure aut dolorum quidem voluptate ut tempora ut perferendis eaque temporibus suscipit autem nam dolore voluptates omnis iste unde et voluptate quod alias doloribus atque at itaque minus expedita repudiandae debitis iure deserunt nihil reprehenderit numquam et dicta voluptates et architecto commodi doloribus veritatis nulla et enim id enim magni impedit illo mollitia fugit eum corrupti sint aut eos quod non rerum id soluta rerum voluptatem aut aspernatur commodi beatae quae vitae nobis amet sed blanditiis est eligendi ut expedita non voluptatum ipsam repellendus porro in odio facere aut ea debitis repudiandae minus sapiente nulla autem sed voluptas et atque hic iusto aut consequatur sint distinctio hic quos culpa molestiae voluptatibus quo est fuga deleniti corrupti dolor vel illum reiciendis est blanditiis perspiciatis dolorum accusantium sequi cumque omnis enim velit reprehenderit fugiat rem et dicta dolorem est reiciendis voluptatem non quis illum culpa id voluptas ullam fugit sint officia ut.\n",
      "\n",
      "Est consequatur architecto temporibus ut ab id eos accusantium facilis eos voluptatum natus a totam dolorem voluptatem eos sit et ea sunt voluptas suscipit debitis aut aspernatur molestiae nihil quia ut voluptas atque quis et repellendus ut qui pariatur consequatur ipsum voluptatem aspernatur quibusdam sed veniam aut ipsum deleniti eveniet eum unde similique ut nobis vel voluptate libero reprehenderit voluptas autem sed laudantium perferendis illo distinctio explicabo officia aut voluptatem commodi dolore qui dolor animi est occaecati voluptatem id minus et doloribus hic molestias et tempore quia illum sit et incidunt consectetur autem officiis fuga est in consequatur voluptates maxime dolorem qui exercitationem nihil eligendi ipsa aliquam aperiam suscipit nulla minima cupiditate sed eveniet sit nihil aliquid numquam deserunt sequi eaque velit quia impedit earum explicabo neque excepturi veniam culpa voluptatibus sequi illum voluptas possimus tempora deleniti voluptatem qui minima neque ad minus aut voluptatem doloremque nobis et quam quo et eum vitae numquam dolorum labore consequatur corrupti accusamus consequatur ut non impedit inventore aut vel cumque enim doloremque qui et magnam provident vitae voluptas necessitatibus officiis ut ullam at quaerat est fugiat cumque quia nisi quisquam qui quaerat a fugit debitis placeat quo laboriosam omnis aut quis nostrum reiciendis dolores quos dolore blanditiis ut odio et porro vel et recusandae totam non quis nemo eum ex nisi aliquid blanditiis nemo alias sunt iusto repellat amet dolorum qui repudiandae consequuntur quo repudiandae saepe adipisci voluptatem praesentium maiores incidunt perferendis molestias necessitatibus veritatis saepe iste quod accusantium et dolores delectus dolor quasi at dicta sit dolor itaque autem qui laborum tempore aut asperiores sapiente iure nostrum error assumenda culpa velit delectus adipisci amet rem voluptatem repellendus facilis in in maiores beatae vero sint non quasi tenetur fugit quia fuga et atque molestiae optio est voluptate aperiam et iste quod voluptates temporibus ducimus laborum sed modi.\n",
      "\n",
      "Similique eum suscipit dignissimos a nemo quis sint quia minima voluptates officiis soluta ut nihil laborum illo rerum occaecati omnis quos ut eveniet quaerat omnis eligendi minus veritatis aut sequi libero voluptas eligendi earum eius ut facere dicta eum delectus sunt unde assumenda consequatur minima corrupti repellendus aperiam debitis modi exercitationem quae saepe tempore ut sit id corporis magnam est quidem accusantium nesciunt dolor voluptatem ea et dolor velit distinctio ducimus nihil amet est sequi sunt enim possimus et voluptatem rerum cum nulla voluptatem ab est ex sed atque animi nisi et repellat voluptas molestias pariatur aliquid cupiditate rem iste excepturi reiciendis et tenetur occaecati deleniti non beatae et velit cupiditate veritatis dolorem mollitia fugiat optio nam at iure rem fuga cumque aspernatur qui aut ea illum expedita eos ratione est fugit numquam molestiae sapiente debitis animi quia incidunt in consectetur et sit ipsa aut veniam et quis quia quas libero blanditiis et nemo id consequatur eaque reiciendis inventore non sed quo necessitatibus perferendis aut harum quia architecto nihil nulla sunt hic mollitia consequatur quia a nostrum quo eum temporibus ut illo et vitae natus amet tempore dolorum et ratione est non maxime qui ab dolores nobis provident ducimus odio magni deserunt velit officia nobis natus enim sint qui doloremque voluptatem nisi quisquam soluta optio odit qui accusamus maiores autem in rerum eos voluptatem quisquam reprehenderit consequatur quo nostrum cum recusandae porro expedita molestiae corrupti eius voluptas maiores dignissimos praesentium vel est quasi voluptate qui sint aliquam facilis doloribus ut sit consequuntur consequuntur perspiciatis consequatur totam odit qui voluptate sint deserunt adipisci consequatur exercitationem vel ut accusantium et quas iusto quam explicabo est qui est possimus omnis repellendus quaerat asperiores in molestias quod placeat porro aliquam adipisci et est facere atque nihil omnis et voluptates recusandae aut provident laborum eos voluptas.\n"
     ]
    }
   ],
   "source": [
    "driver.get('http://the-internet.herokuapp.com/')\n",
    "driver.find_element(By.LINK_TEXT, 'Infinite Scroll').click();  time.sleep(1)\n",
    "driver.find_element(By.TAG_NAME, 'body').send_keys(Keys.END);  time.sleep(1)\n",
    "driver.find_element(By.TAG_NAME, 'body').send_keys(Keys.END);  time.sleep(1)\n",
    "driver.find_element(By.TAG_NAME, 'body').send_keys(Keys.HOME); time.sleep(1)\n",
    "print( driver.find_element(By.CLASS_NAME, 'jscroll-inner').text )"
   ]
  },
  {
   "cell_type": "markdown",
   "metadata": {},
   "source": [
    "## Test Case 3\n",
    "\"To perform Test case 3, please click on **Key presses on Menu**  \n",
    "Test case 3: Click on 4 keys and assert the text displayed after every key press\""
   ]
  },
  {
   "cell_type": "code",
   "execution_count": 19,
   "metadata": {},
   "outputs": [
    {
     "name": "stdout",
     "output_type": "stream",
     "text": [
      "You entered: A\n",
      "You entered: 1\n",
      "You entered: SHIFT\n",
      "You entered: F9\n"
     ]
    }
   ],
   "source": [
    "driver.get('http://the-internet.herokuapp.com/')\n",
    "driver.find_element(By.LINK_TEXT, 'Key Presses').click()\n",
    "for key in ['A', '1', Keys.SHIFT, Keys.F9]:\n",
    "    driver.find_element(By.TAG_NAME, 'body').send_keys(key)\n",
    "    print( driver.find_element(By.ID, 'result').text )"
   ]
  },
  {
   "cell_type": "markdown",
   "metadata": {},
   "source": [
    "# End"
   ]
  },
  {
   "cell_type": "code",
   "execution_count": 20,
   "metadata": {},
   "outputs": [],
   "source": [
    "driver.quit()"
   ]
  }
 ],
 "metadata": {
  "kernelspec": {
   "display_name": "Python 3",
   "language": "python",
   "name": "python3"
  },
  "language_info": {
   "codemirror_mode": {
    "name": "ipython",
    "version": 3
   },
   "file_extension": ".py",
   "mimetype": "text/x-python",
   "name": "python",
   "nbconvert_exporter": "python",
   "pygments_lexer": "ipython3",
   "version": "3.8.5"
  }
 },
 "nbformat": 4,
 "nbformat_minor": 4
}
